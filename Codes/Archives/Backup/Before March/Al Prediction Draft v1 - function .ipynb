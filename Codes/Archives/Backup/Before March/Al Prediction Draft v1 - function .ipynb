{
 "cells": [
  {
   "cell_type": "code",
   "execution_count": 5,
   "id": "e3311dcc",
   "metadata": {},
   "outputs": [],
   "source": [
    "import pandas as pd\n",
    "import numpy as np\n",
    "import pyodbc\n",
    "import warnings\n",
    "import datetime\n",
    "import logging\n",
    "from node_rules import cgcr_oxygen_tree, cgcr_aluminium_prediction, vag_aluminium_prediction"
   ]
  },
  {
   "cell_type": "code",
   "execution_count": null,
   "id": "0d622e4e",
   "metadata": {},
   "outputs": [],
   "source": []
  },
  {
   "cell_type": "code",
   "execution_count": 6,
   "id": "e877f764",
   "metadata": {},
   "outputs": [
    {
     "name": "stdout",
     "output_type": "stream",
     "text": [
      "Start Time :  2021-10-21 11:18:11.226360\n"
     ]
    }
   ],
   "source": [
    "warnings.filterwarnings('ignore')\n",
    "\n",
    "# for logging purposes\n",
    "code_start_time = datetime.datetime.now()\n",
    "print(\"Start Time : \", code_start_time)"
   ]
  },
  {
   "cell_type": "code",
   "execution_count": 7,
   "id": "c0be8351",
   "metadata": {},
   "outputs": [],
   "source": [
    "conn = pyodbc.connect('Driver={SQL Server};'\n",
    "                     'Server=STEELDNA;'\n",
    "                     'Database=DeS;'\n",
    "                     'UID=sa;'\n",
    "                     'PWD=admin@123;'\n",
    "                     'Trusted_Connection=no;')\n",
    "\n",
    "cursor = conn.cursor()"
   ]
  },
  {
   "cell_type": "code",
   "execution_count": 8,
   "id": "f9b6ab7a",
   "metadata": {},
   "outputs": [],
   "source": [
    "def call_prediction_function(row):\n",
    "    \n",
    "    \"\"\"\n",
    "    This function calls either the cgcr/vag prediction function based on the grade type for each heat\n",
    "    \"\"\"\n",
    "    \n",
    "    if row['GRADE_TYPE'] == 'CG/CR':\n",
    "        return cgcr_aluminium_prediction(row)\n",
    "    \n",
    "    elif row['GRADE_TYPE'] == 'VAG':\n",
    "        return vag_aluminium_prediction(row)\n",
    "    \n",
    "    else:\n",
    "        print(\"Unknown Grade\")\n",
    "        return None"
   ]
  },
  {
   "cell_type": "code",
   "execution_count": null,
   "id": "c36dfb68",
   "metadata": {},
   "outputs": [],
   "source": [
    "def al_prediction_main(run_heats):\n",
    "    \"\"\"\n",
    "    Main function that is called whenever predictions are to be made\n",
    "    \"\"\"\n",
    "    \n",
    "    ######################### data imports ##############################\n",
    "    \n",
    "    # importing heat_analysis\n",
    "    heat_analysis = pd.read_sql(\"select TOP(1000) * from heat_analysis order by MSG_TIME_STAMP desc\", conn)\n",
    "    heat_analysis = heat_analysis[heat_analysis['HEAT_NUMBER'].isin(run_heats)]\n",
    "    \n",
    "    # importing lf_heat_data\n",
    "    lf_heat_data = pd.read_sql(\"select TOP(1000) * from lf_heat_data order by MSG_TIME_STAMP desc\", conn)\n",
    "    lf_heat_data = lf_heat_data[lf_heat_data['HEAT_NUMBER'].isin(run_heats)]\n",
    "    \n",
    "    # importing the grade mapping fact table\n",
    "    grade_mapping = pd.read_sql(\"select * from grade_mapping\", conn)\n",
    "    \n",
    "    \n",
    "    ######################### data processing ##############################\n",
    "    \n",
    "    # calculating required columns\n",
    "    lf_heat_data['final_O2_ppm'] = lf_heat_data['TAP_O2'] + lf_heat_data['O2AFTERCELOX']\n",
    "\n",
    "    # converting ALBAR to tons\n",
    "    lf_heat_data['ALBAR'] = lf_heat_data['ALBAR']/19\n",
    "\n",
    "    # renaming the required columns\n",
    "    lf_heat_data.rename(columns = {\n",
    "        'GRADE_TYPE':'GRADE',\n",
    "        'LM_START_WT':'LM_Start_Wt_lf',\n",
    "        'FIRSTMEASTEMP':'1st_Probe_temp_lf',\n",
    "        'ALBAR':'Al_Bar_lf',\n",
    "        'LIME':'Lime_tap',\n",
    "        'SIMN':'SiMn_tap',\n",
    "        'LTA':'LTA_lf'\n",
    "    }, inplace = True)\n",
    "    \n",
    "    # keeping only the required rows\n",
    "    lf_heat_data = lf_heat_data.groupby(['HEAT_NUMBER','STATION']).agg({'MSG_TIME_STAMP':'max','GRADE': 'first','1st_Probe_temp_lf':'max', 'Al_Bar_lf':'max','LM_Start_Wt_lf':'max','LTA_lf':'max','Lime_tap':'max','SiMn_tap':'max','final_O2_ppm':'max'})\n",
    "    lf_heat_data.reset_index(inplace = True)\n",
    "    lf_heat_data.sort_values(by = ['MSG_TIME_STAMP'], ascending = False, inplace = True)\n",
    "    lf_heat_data.drop_duplicates(subset = ['HEAT_NUMBER'], keep = 'first', inplace = True)\n",
    "    \n",
    "    # preprocessing heat_analysis\n",
    "    # if there are multiple records for a heat, keeping only the latest one\n",
    "    heat_analysis.drop_duplicates(subset = ['HEAT_NUMBER'], keep = 'first', inplace = True)\n",
    "\n",
    "    # keeping only required columns\n",
    "    heat_analysis = heat_analysis[['HEAT_NUMBER','AGGREGATE','AL_TOTAL','S','C','SI']]\n",
    "\n",
    "    # renaming columns as per requirement\n",
    "    heat_analysis.rename(columns = {'AL_TOTAL':'AL_chem_first', 'S':'S_chem_first','SI':'SI_chem_first','C':'C_chem_first'}, inplace = True)\n",
    "    \n",
    "    \n",
    "    # merging sample chemistry data with lf data\n",
    "    ads = heat_analysis.merge(lf_heat_data, on = ['HEAT_NUMBER'], how = 'inner')\n",
    "    \n",
    "    \n",
    "    # ads preprocessing\n",
    "    \n",
    "    # constraints to avoid cases with data issues\n",
    "    # constraint no.1\n",
    "    # al_bar range is 15-25\n",
    "    ads = ads[(ads['Al_Bar_lf'] >= 15) & (ads['Al_Bar_lf'] <= 25)]\n",
    "    # constraint no.2\n",
    "    # lm weight is between 170 - 205\n",
    "    ads = ads[(ads['LM_Start_Wt_lf'] >= 170) & (ads['LM_Start_Wt_lf'] <= 205)]\n",
    "    \n",
    "    # filling null values with 0 for now, update to default values later\n",
    "    ads.fillna(0, inplace = True)\n",
    "\n",
    "    # adding loi perc as a column\n",
    "    # this is a fixed value\n",
    "    ads['LOI_perc'] = 6\n",
    "    \n",
    "    # mapping the grades to their grade type (CG/CR or VAG)\n",
    "    # the grades that don't get mapped are billet heats, and so will not be run in this model\n",
    "    ads = ads.merge(grade_mapping, on = ['GRADE'], how = 'inner')\n",
    "    \n",
    "    ################ AL Prediction #################################\n",
    "    \n",
    "    # predicting aluminium material\n",
    "    ads['AL_KGS'] = ads.apply(call_prediction_function, axis = 1)\n",
    "\n",
    "    # predicting aluminium material in meters\n",
    "    ads['AL_MTS'] = ads['AL_KGS'] * (10/3)\n",
    "    \n",
    "    # keeping only required columns\n",
    "    ads = ads[['HEAT_NUMBER','AGGREGATE','AL_KGS','AL_MTS']]\n",
    "    \n",
    "    return ads"
   ]
  },
  {
   "cell_type": "code",
   "execution_count": 4,
   "id": "462c4c5c",
   "metadata": {},
   "outputs": [
    {
     "ename": "NameError",
     "evalue": "name 'ads' is not defined",
     "output_type": "error",
     "traceback": [
      "\u001b[1;31m---------------------------------------------------------------------------\u001b[0m",
      "\u001b[1;31mNameError\u001b[0m                                 Traceback (most recent call last)",
      "\u001b[1;32m<ipython-input-4-cd97d3fcda89>\u001b[0m in \u001b[0;36m<module>\u001b[1;34m\u001b[0m\n\u001b[1;32m----> 1\u001b[1;33m \u001b[0mads\u001b[0m\u001b[1;33m\u001b[0m\u001b[1;33m\u001b[0m\u001b[0m\n\u001b[0m",
      "\u001b[1;31mNameError\u001b[0m: name 'ads' is not defined"
     ]
    }
   ],
   "source": [
    "ads"
   ]
  },
  {
   "cell_type": "code",
   "execution_count": 215,
   "id": "218bf950",
   "metadata": {},
   "outputs": [],
   "source": []
  },
  {
   "cell_type": "code",
   "execution_count": 217,
   "id": "7e136373",
   "metadata": {},
   "outputs": [
    {
     "data": {
      "text/plain": [
       "164"
      ]
     },
     "execution_count": 217,
     "metadata": {},
     "output_type": "execute_result"
    }
   ],
   "source": []
  },
  {
   "cell_type": "code",
   "execution_count": null,
   "id": "c386bae8",
   "metadata": {},
   "outputs": [],
   "source": []
  }
 ],
 "metadata": {
  "kernelspec": {
   "display_name": "Python 3",
   "language": "python",
   "name": "python3"
  },
  "language_info": {
   "codemirror_mode": {
    "name": "ipython",
    "version": 3
   },
   "file_extension": ".py",
   "mimetype": "text/x-python",
   "name": "python",
   "nbconvert_exporter": "python",
   "pygments_lexer": "ipython3",
   "version": "3.8.8"
  }
 },
 "nbformat": 4,
 "nbformat_minor": 5
}
