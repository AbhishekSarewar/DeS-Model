{
 "cells": [
  {
   "cell_type": "code",
   "execution_count": null,
   "id": "08be5f2e",
   "metadata": {},
   "outputs": [],
   "source": [
    "import pyodbc\n",
    "import pandas as pd\n",
    "import random\n",
    "import sys\n",
    "from datetime import datetime, timedelta\n",
    "import threading \n",
    "import time\n",
    "from time import sleep"
   ]
  },
  {
   "cell_type": "code",
   "execution_count": null,
   "id": "72318bbf",
   "metadata": {},
   "outputs": [],
   "source": [
    "# creating connections with sql server\n",
    "conn = pyodbc.connect('Driver={SQL Server};'\n",
    "                      'Server=STEELDNA;'\n",
    "                      'Database=DeS;'\n",
    "                      'UID=sa;'\n",
    "                      'PWD=admin@123;'\n",
    "                      'Trusted_Connection=no;')\n",
    "\n",
    "cursor = conn.cursor()"
   ]
  },
  {
   "cell_type": "code",
   "execution_count": 7,
   "id": "ac579439",
   "metadata": {},
   "outputs": [],
   "source": [
    "# getting system starttime\n",
    "now = datetime.now()"
   ]
  },
  {
   "cell_type": "code",
   "execution_count": 4,
   "id": "078fd5c2",
   "metadata": {},
   "outputs": [],
   "source": [
    "class RepeatedTimer(object):\n",
    "  def __init__(self, interval, function, *args, **kwargs):\n",
    "    self._timer = None\n",
    "    self.interval = interval\n",
    "    self.function = function\n",
    "    self.args = args\n",
    "    self.kwargs = kwargs\n",
    "    self.is_running = False\n",
    "    self.next_call = time.time()\n",
    "    self.start()\n",
    "\n",
    "  def _run(self):\n",
    "    self.is_running = False\n",
    "    self.start()\n",
    "    self.function(*self.args, **self.kwargs)\n",
    "\n",
    "  def start(self):\n",
    "    if not self.is_running:\n",
    "      self.next_call += self.interval\n",
    "      self._timer = threading.Timer(self.next_call - time.time(), self._run)\n",
    "      self._timer.start()\n",
    "      self.is_running = True\n",
    "\n",
    "  def stop(self):\n",
    "    self._timer.cancel()\n",
    "    self.is_running = False"
   ]
  },
  {
   "cell_type": "code",
   "execution_count": 147,
   "id": "224fbc11",
   "metadata": {},
   "outputs": [],
   "source": [
    "def update_first_sample(status):\n",
    "    \n",
    "    # printing loop status\n",
    "    print(status)\n",
    "    \n",
    "    # getting system starttime\n",
    "    now = datetime.now()\n",
    "\n",
    "    # creating connections with sql server\n",
    "    conn = pyodbc.connect('Driver={SQL Server};'\n",
    "                          'Server=STEELDNA;'\n",
    "                          'Database=DeS;'\n",
    "                          'UID=sa;'\n",
    "                          'PWD=admin@123;'\n",
    "                          'Trusted_Connection=no;')\n",
    "\n",
    "    cursor = conn.cursor()\n",
    "\n",
    "    \n",
    "    # reading the table which has information regarding sample chemistry\n",
    "    sample_chemistry_data= pd.read_sql(\"SELECT TOP(100) * FROM heat_analysis order by SAMPLE_TIME desc\", conn)\n",
    "\n",
    "    # keeping only data points from the last 3 hours\n",
    "    # window selected based on analysis\n",
    "    sample_chemistry_data = sample_chemistry_data[sample_chemistry_data['SAMPLE_TIME']>= now - timedelta(minutes = 180)]\n",
    "\n",
    "    # first we remove all records of LF5, as we are not predicting for that LF\n",
    "    sample_chemistry_data = sample_chemistry_data[sample_chemistry_data['AGGREGATE'] != 'LF5']\n",
    "\n",
    "    # for this, first we have to find the heats which have the latest sample information as first sample\n",
    "    sample_latest = sample_chemistry_data.groupby('HEAT_NUMBER').agg({'SAMPLE_CODE':'max'})\n",
    "    sample_latest = sample_latest[sample_latest['SAMPLE_CODE'] == '25101']\n",
    "    sample_latest.reset_index(inplace = True)\n",
    "\n",
    "    # getting the latest heat numbers from master_output_table\n",
    "    # we've already predicted the outputs for this heat, so we don't need to predict again\n",
    "    previous_heats = pd.read_sql(\"SELECT TOP(100) HEAT_NUMBER FROM dbo.output_table ORDER BY MSG_TIME_STAMP desc\",conn)\n",
    "    previous_heats = list(previous_heats['HEAT_NUMBER'])\n",
    "    previous_heats = [str(x) for x in previous_heats]\n",
    "    \n",
    "    # we will only run for any new heats that have been found\n",
    "    latest_heats = sample_latest['HEAT_NUMBER'].unique()\n",
    "    run_heats = [x for x in latest_heats if x not in previous_heats]\n",
    "    \n",
    "    # if this list is empty, we dont run the predictions code\n",
    "    # if it is not empty, then we predict for the new heats\n",
    "    if len(run_heats) != 0:\n",
    "        \n",
    "        \n",
    "    \n",
    "    ######################################################################################################################\n",
    "    # this is a temporary testing logic\n",
    "    # to just see if we can push to the output table regularly \n",
    "    # without having repeats in the heat number\n",
    "    # this is the step where the actual regression equations would run\n",
    "    # and the output would be stored in the master output table\n",
    "\n",
    "    # test logic\n",
    "    # to be replaced\n",
    "    op_table = sample_latest.copy()\n",
    "    op_table = op_table[~op_table['HEAT_NUMBER'].isin(heat_numbers)]\n",
    "    op_table['NODE'] = [random.randint(1,16) for x in range(len(op_table))]\n",
    "    op_table['INSERT_DATETIME'] = now\n",
    "    op_table = op_table.merge(sample_chemistry_data, on = 'HEAT_NUMBER', how = 'left')\n",
    "    # keeping only required columns for now\n",
    "    op_table = op_table[['HEAT_NUMBER','SAMPLE_TIME','INSERT_DATETIME','NODE']]\n",
    "\n",
    "    # writing to output_test_table\n",
    "    for index, row in op_table.iterrows():\n",
    "        cursor.execute(\"INSERT into dbo.master_output_table_test (HEAT_NUMBER,SAMPLE_TIME,INSERT_DATETIME,NODE) values(?,?,?,?)\", row['HEAT_NUMBER'], row['SAMPLE_TIME'], row['INSERT_DATETIME'], row['NODE'])\n",
    "        \n",
    "    # closing cursor\n",
    "    conn.commit()\n",
    "    cursor.close()"
   ]
  },
  {
   "cell_type": "code",
   "execution_count": 154,
   "id": "e54b9fde",
   "metadata": {},
   "outputs": [
    {
     "name": "stdout",
     "output_type": "stream",
     "text": [
      "starting...\n",
      "Started\n",
      "Started\n",
      "failed\n",
      "Started\n",
      "Started\n",
      "Started\n",
      "Started\n"
     ]
    }
   ],
   "source": [
    "print(\"starting...\")\n",
    "rt = RepeatedTimer(30, update_first_sample,\"Started\") # it auto-starts, no need of rt.start()\n",
    "try:\n",
    "    sleep(5)# your long-running job goes here...\n",
    "finally:\n",
    "    #rt.stop() # better in a try/finally block to make sure the program ends!\n",
    "    print(\"failed\")\n",
    "    "
   ]
  },
  {
   "cell_type": "code",
   "execution_count": 8,
   "id": "5bf818da",
   "metadata": {},
   "outputs": [],
   "source": [
    "# creating connections with sql server\n",
    "conn = pyodbc.connect('Driver={SQL Server};'\n",
    "                      'Server=STEELDNA;'\n",
    "                      'Database=DeS;'\n",
    "                      'UID=sa;'\n",
    "                      'PWD=admin@123;'\n",
    "                      'Trusted_Connection=no;')\n",
    "\n",
    "cursor = conn.cursor()"
   ]
  },
  {
   "cell_type": "code",
   "execution_count": 9,
   "id": "4b4217cb",
   "metadata": {},
   "outputs": [],
   "source": [
    "# getting system starttime\n",
    "now = datetime.now()"
   ]
  },
  {
   "cell_type": "code",
   "execution_count": 20,
   "id": "306b3e00",
   "metadata": {},
   "outputs": [],
   "source": [
    "# reading the table which has information regarding sample chemistry\n",
    "sample_chemistry_data= pd.read_sql(\"SELECT TOP(100) * FROM heat_analysis order by SAMPLE_TIME desc\", conn)\n",
    "\n",
    "# keeping only data points from the last 3 hours\n",
    "# window selected based on analysis\n",
    "sample_chemistry_data = sample_chemistry_data[sample_chemistry_data['SAMPLE_TIME']>= now - timedelta(minutes = 180)]\n",
    "\n",
    "# first we remove all records of LF5, as we are not predicting for that LF\n",
    "sample_chemistry_data = sample_chemistry_data[sample_chemistry_data['AGGREGATE'] != 'LF5']\n",
    "\n",
    "# for this, first we have to find the heats which have the latest sample information as first sample\n",
    "sample_latest = sample_chemistry_data.groupby('HEAT_NUMBER').agg({'SAMPLE_CODE':'max'})\n",
    "sample_latest = sample_latest[sample_latest['SAMPLE_CODE'].isin(['25101','25201'])]\n",
    "sample_latest.reset_index(inplace = True)\n",
    "\n",
    "# getting the latest heat numbers from master_output_table\n",
    "# we've already predicted the outputs for this heat, so we don't need to predict again\n",
    "previous_heats = pd.read_sql(\"SELECT TOP(100) HEAT_NUMBER FROM dbo.output_table ORDER BY MSG_TIME_STAMP desc\",conn)\n",
    "previous_heats = list(previous_heats['HEAT_NUMBER'])\n",
    "previous_heats = [str(x) for x in previous_heats]\n",
    "\n",
    "# we will only run for any new heats that have been found\n",
    "latest_heats = sample_latest['HEAT_NUMBER'].unique()\n",
    "run_heats = [x for x in latest_heats if x not in previous_heats]\n"
   ]
  },
  {
   "cell_type": "code",
   "execution_count": 21,
   "id": "dc3ea9fa",
   "metadata": {},
   "outputs": [
    {
     "data": {
      "text/plain": [
       "[]"
      ]
     },
     "execution_count": 21,
     "metadata": {},
     "output_type": "execute_result"
    }
   ],
   "source": [
    "run_heats"
   ]
  },
  {
   "cell_type": "code",
   "execution_count": 23,
   "id": "bad674c0",
   "metadata": {},
   "outputs": [],
   "source": [
    "now = datetime.now().second"
   ]
  },
  {
   "cell_type": "code",
   "execution_count": 24,
   "id": "029bc7c8",
   "metadata": {},
   "outputs": [
    {
     "data": {
      "text/plain": [
       "58"
      ]
     },
     "execution_count": 24,
     "metadata": {},
     "output_type": "execute_result"
    }
   ],
   "source": [
    "now"
   ]
  },
  {
   "cell_type": "code",
   "execution_count": null,
   "id": "aec5239a",
   "metadata": {},
   "outputs": [],
   "source": []
  }
 ],
 "metadata": {
  "kernelspec": {
   "display_name": "Python 3",
   "language": "python",
   "name": "python3"
  },
  "language_info": {
   "codemirror_mode": {
    "name": "ipython",
    "version": 3
   },
   "file_extension": ".py",
   "mimetype": "text/x-python",
   "name": "python",
   "nbconvert_exporter": "python",
   "pygments_lexer": "ipython3",
   "version": "3.8.8"
  }
 },
 "nbformat": 4,
 "nbformat_minor": 5
}
